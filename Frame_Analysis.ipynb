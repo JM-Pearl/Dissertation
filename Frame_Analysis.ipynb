{
 "cells": [
  {
   "cell_type": "markdown",
   "id": "74cebc39",
   "metadata": {},
   "source": [
    "# Frame Analysis\n",
    "This notebook calculates differences in word choice between Democrats and Republicans on a variety of political issues inductively identified through an unsupervised topic model"
   ]
  },
  {
   "cell_type": "code",
   "execution_count": 1,
   "id": "110231da",
   "metadata": {},
   "outputs": [],
   "source": [
    "import os\n",
    "os.environ[\"NUMEXPR_MAX_THREADS\"] = '36'\n",
    "\n",
    "import joblib\n",
    "import p_tqdm\n",
    "\n",
    "%run Frame_analysis_functions.py"
   ]
  },
  {
   "cell_type": "code",
   "execution_count": 2,
   "id": "f13a297d",
   "metadata": {},
   "outputs": [],
   "source": [
    "# Load Data\n",
    "all_df = pd.read_csv('Results/All_speeches_labelled.csv')\n",
    "all_df = all_df.loc[all_df.party != 'I']\n",
    "\n",
    "# set up year-topic combinations\n",
    "combinations = []\n",
    "for year in range(1983,2017):\n",
    "    for topic in all_df.dynamic_label.unique():\n",
    "        combinations.append((year,topic))"
   ]
  },
  {
   "cell_type": "code",
   "execution_count": 3,
   "id": "056c280f",
   "metadata": {},
   "outputs": [],
   "source": [
    "def run_similarity(year,topic,binary=True):\n",
    "    \"\"\"\n",
    "    run analysis for a given year and topic\n",
    "    \n",
    "    args:\n",
    "        - year: year to subset speeches\n",
    "        - topic: topic to subset speeches\n",
    "        - binary: if True, 1 for speech containing word else frequency within speech\n",
    "    returns:\n",
    "        - dictionary containing summary statistics and correlation dataframe\n",
    "    \"\"\"\n",
    "    \n",
    "    # subset speeches\n",
    "    sub_df = all_df.loc[(all_df.year == year) & (all_df.dynamic_label == topic)]\n",
    "\n",
    "    if len(sub_df) > 0:\n",
    "\n",
    "        DTM = make_DTM(sub_df,binary=binary) # Make DTM\n",
    "        term_df = chiSq_df(DTM) # Make Chi_square frequency table\n",
    "        pre_drop_terms = DTM.columns[:-1] # record keeping\n",
    "        \n",
    "        # remove low value chi square terms (take top 200 terms)\n",
    "        term_df = term_df.sort_values(by='chi2',ascending=False)\n",
    "        drop_cols = list(term_df['terms'][200:])\n",
    "        DTM = DTM.drop(drop_cols,1)\n",
    "        term_df = term_df.head(200)\n",
    "        \n",
    "        corr_df = perform_correlations(DTM) # make correlation DF\n",
    "        \n",
    "        # calculate metrics\n",
    "        corr_df['weighted'] = corr_df['correlation']*corr_df['freq']\n",
    "        partisanship = corr_df['weighted'].sum()/corr_df['freq'].sum()\n",
    "        polarization = corr_df['weighted'].abs().sum()/corr_df['freq'].sum()\n",
    "        distance = cosine(term_df['D'],term_df['R'])\n",
    "        \n",
    "        return {\"results\":{'distance':distance,\n",
    "                    'polarization':polarization,\n",
    "                    'partisanship':partisanship,\n",
    "                    \"pre_termlength\":len(pre_drop_terms),\n",
    "                    'post_termlength':len(corr_df)},\n",
    "                'correlations':corr_df,\n",
    "                'topic':topic,\n",
    "                'year':year\n",
    "               }"
   ]
  },
  {
   "cell_type": "markdown",
   "id": "ceea3267",
   "metadata": {},
   "source": [
    "# Run Analysis"
   ]
  },
  {
   "cell_type": "code",
   "execution_count": 4,
   "id": "92842175",
   "metadata": {},
   "outputs": [
    {
     "name": "stderr",
     "output_type": "stream",
     "text": [
      "2016 healthcare: 100%|██████████| 2142/2142 [03:55<00:00,  9.08it/s]               \n"
     ]
    }
   ],
   "source": [
    "Results = []\n",
    "pbar = tqdm(combinations)\n",
    "for combination in pbar:\n",
    "    pbar.set_description(\"%s %s\"%combination)\n",
    "    year,topic = combination\n",
    "    f = run_similarity(year,topic,binary=True)\n",
    "    if f:\n",
    "        Results.append(f)\n"
   ]
  },
  {
   "cell_type": "markdown",
   "id": "b2c27670",
   "metadata": {},
   "source": [
    "# Permutation analysis for null models"
   ]
  },
  {
   "cell_type": "code",
   "execution_count": 36,
   "id": "67f0b3df",
   "metadata": {},
   "outputs": [],
   "source": [
    "def run_similarity_perm(year,topic,binary=True,perms=200):\n",
    "    sub_df = all_df.loc[(all_df.year_y == year) & (all_df.dynamic_label == topic)]\n",
    "    if len(sub_df) > 0:\n",
    "        \n",
    "        # get terms maintained from true results\n",
    "        true_corrs = [b['correlations'] for b in Results \n",
    "                   if b['topic'] == topic and b['year'] == year]\n",
    "\n",
    "        keep_terms = true_corrs[0].term.values\n",
    "        \n",
    "        DTM = make_DTM(sub_df,binary=binary) # Make DTM\n",
    "        pre_drop_terms = DTM.columns[:-1] # record keeping\n",
    "        drop_cols = [i for i in pre_drop_terms if i not in keep_terms]\n",
    "        DTM = DTM.drop(drop_cols,1)\n",
    "        \n",
    "        Nulls = []\n",
    "        for perm in range(perms):\n",
    "            term_df = chiSq_df(DTM,permute=True) # Make Chi_square frequency table\n",
    "            # remove low value chi square terms\n",
    "            term_df['chi2'] = term_df.loc[-term_df.terms.isin(drop_cols)]\n",
    "\n",
    "            corr_df = perform_correlations(DTM,permute=True) # make correlation DF\n",
    "\n",
    "            # calculate metrics\n",
    "            corr_df['weighted'] = corr_df['correlation']*corr_df['freq']\n",
    "            partisanship = corr_df['weighted'].sum()/corr_df['freq'].sum()\n",
    "            polarization = corr_df['weighted'].abs().sum()/corr_df['freq'].sum()\n",
    "            distance = cosine(term_df['D'],term_df['R'])\n",
    "\n",
    "            Nulls.append({'distance':distance,\n",
    "                        'polarization':polarization,\n",
    "                        'partisanship':partisanship,\n",
    "                        \"pre_termlength\":len(pre_drop_terms),\n",
    "                        'post_termlength':len(corr_df),\n",
    "                        'topic':topic,\n",
    "                        'year':year,\n",
    "                        'iter':perm})\n",
    "        return pd.DataFrame(Nulls)"
   ]
  },
  {
   "cell_type": "code",
   "execution_count": 37,
   "id": "0ca68e3c",
   "metadata": {},
   "outputs": [
    {
     "data": {
      "application/vnd.jupyter.widget-view+json": {
       "model_id": "f259bb565ba44333ae781a8b9079d8fc",
       "version_major": 2,
       "version_minor": 0
      },
      "text/plain": [
       "  0%|          | 0/2142 [00:00<?, ?it/s]"
      ]
     },
     "metadata": {},
     "output_type": "display_data"
    }
   ],
   "source": [
    "def run_(x):\n",
    "    year,topic = x\n",
    "    f = run_similarity_perm(year,topic,binary=True)\n",
    "    if type(f) == pd.core.frame.DataFrame:\n",
    "        return f\n",
    "\n",
    "Null_Results = p_tqdm.p_map(run_,combinations,num_cpus=30)\n",
    "\n",
    "Null_DF = pd.concat(Null_Results)\n",
    "Null_DF.to_csv('Results/Null_Frame_Results.csv')"
   ]
  },
  {
   "cell_type": "markdown",
   "id": "a24dfccf",
   "metadata": {},
   "source": [
    "### Saving to disc and as CSV for visualization in R"
   ]
  },
  {
   "cell_type": "code",
   "execution_count": 5,
   "id": "997f59a2",
   "metadata": {},
   "outputs": [],
   "source": [
    "with open('Results/Frame_results.pkl', 'wb') as File:\n",
    "    joblib.dump(Results,File)"
   ]
  },
  {
   "cell_type": "code",
   "execution_count": 6,
   "id": "8adb9c12",
   "metadata": {},
   "outputs": [],
   "source": [
    "# make result dataframe\n",
    "Result_DF = []\n",
    "for r in Results:\n",
    "    d = r['results']\n",
    "    d['year'] = r['year']\n",
    "    d['topic'] = r['topic']\n",
    "    Result_DF.append(d)\n",
    "Result_DF = pd.DataFrame(Result_DF)"
   ]
  },
  {
   "cell_type": "code",
   "execution_count": 16,
   "id": "5d097dec",
   "metadata": {},
   "outputs": [
    {
     "data": {
      "text/plain": [
       "<AxesSubplot:xlabel='year'>"
      ]
     },
     "execution_count": 16,
     "metadata": {},
     "output_type": "execute_result"
    },
    {
     "data": {
      "image/png": "[encoded data removed]",
      "text/plain": [
       "<Figure size 432x288 with 1 Axes>"
      ]
     },
     "metadata": {
      "needs_background": "light"
     },
     "output_type": "display_data"
    }
   ],
   "source": [
    "Result_DF.groupby('year',as_index=False).polarization.mean().plot(x='year',y='polarization')"
   ]
  },
  {
   "cell_type": "code",
   "execution_count": 45,
   "id": "1ccf2bee",
   "metadata": {},
   "outputs": [],
   "source": [
    "# Normalize values\n",
    "Null_DF['polarization_st'] = Null_DF.groupby('iter').polarization.transform(lambda x: (x-x.mean())/x.std())\n",
    "Null_DF['partisanship_st'] = Null_DF.groupby('iter').partisanship.transform(lambda x: (x-x.mean())/x.std())\n",
    "\n",
    "Result_DF['polarization_st'] = Result_DF.polarization.transform(lambda x: (x-x.mean())/x.std())\n",
    "Result_DF['partisanship_st'] = Result_DF.partisanship.transform(lambda x: (x-x.mean())/x.std())\n",
    "\n",
    "Null_DF['type'] = 'null'\n",
    "Result_DF['iter'] = 99\n",
    "Result_DF['type'] = 'true'\n",
    "\n",
    "Null_DF = Null_DF[['type','iter','year','topic','distance','polarization','polarization_st','partisanship','partisanship_st']]\n",
    "Result_DF = Result_DF[['type','iter','year','topic','distance','polarization','polarization_st','partisanship','partisanship_st']]\n",
    "\n",
    "combined = pd.concat([Result_DF,Null_DF])\n",
    "\n",
    "combined.to_csv('Results/True_and_Nulls_Frame.csv')"
   ]
  },
  {
   "cell_type": "code",
   "execution_count": 8,
   "id": "f7d02ca3",
   "metadata": {},
   "outputs": [],
   "source": [
    "Result_DF.to_csv('Results/frame_polarizatio_true_results.csv')"
   ]
  },
  {
   "cell_type": "code",
   "execution_count": 7,
   "id": "d4f271af",
   "metadata": {},
   "outputs": [],
   "source": [
    "corr_df = []\n",
    "for r in Results:\n",
    "    df = r['correlations']\n",
    "    df['year'] = r['year']\n",
    "    df['topic'] = r['topic']\n",
    "    corr_df.append(df)\n",
    "corr_df = pd.concat(corr_df)\n",
    "\n",
    "corr_df.to_csv('Results/term_correlations_frames.csv')"
   ]
  },
  {
   "cell_type": "markdown",
   "id": "1093cac4",
   "metadata": {},
   "source": [
    "## Preparing dataframe for ranked topics and terms"
   ]
  },
  {
   "cell_type": "code",
   "execution_count": 9,
   "id": "198fe0a1",
   "metadata": {},
   "outputs": [],
   "source": [
    "def get_top_terms(row):\n",
    "    year = row['year']\n",
    "    topic = row['topic']\n",
    "    sub_corr = corr_df.loc[(corr_df.year == year) & (corr_df.topic == topic)]\n",
    "    sub_corr = sub_corr.sort_values(by='correlation')\n",
    "    Dem_ = sub_corr.head(5)\n",
    "    Dem_score = Dem_.correlation.abs().mean()\n",
    "    Rep_ = sub_corr.tail(5)\n",
    "    Rep_score = Rep_.correlation.abs().mean()\n",
    "    \n",
    "    Rep_terms = ', '.join(list(Rep_.term)[::-1])\n",
    "    Dem_terms = ', '.join(list(Dem_.term))\n",
    "    return Rep_terms,Dem_terms,Rep_score,Dem_score"
   ]
  },
  {
   "cell_type": "code",
   "execution_count": 10,
   "id": "0bcdd08a",
   "metadata": {},
   "outputs": [
    {
     "name": "stderr",
     "output_type": "stream",
     "text": [
      "/opt/anaconda3/lib/python3.8/site-packages/pandas/core/indexing.py:1720: SettingWithCopyWarning: \n",
      "A value is trying to be set on a copy of a slice from a DataFrame.\n",
      "Try using .loc[row_indexer,col_indexer] = value instead\n",
      "\n",
      "See the caveats in the documentation: https://pandas.pydata.org/pandas-docs/stable/user_guide/indexing.html#returning-a-view-versus-a-copy\n",
      "  self._setitem_single_column(loc, value, pi)\n"
     ]
    }
   ],
   "source": [
    "Result_DF = Result_DF.loc[-Result_DF.topic.isin(['armenian_genocide','tribute','procedural'])]\n",
    "Result_DF.loc[Result_DF.topic == 'health_insurance','topic'] = 'healthcare'\n",
    "\n",
    "df = Result_DF.sort_values(['year','distance'],ascending=[1,0]).groupby('year').head(3)[['distance','year','topic']]\n",
    "df[['Rep_terms','Dem_terms','Rep_strength','Dem_strength']] = df.apply(get_top_terms,1,result_type=\"expand\")\n",
    "df['rank'] = [1,2,3] * 34"
   ]
  },
  {
   "cell_type": "code",
   "execution_count": 11,
   "id": "0b4ca9ef",
   "metadata": {},
   "outputs": [
    {
     "data": {
      "text/html": [
       "<div>\n",
       "<style scoped>\n",
       "    .dataframe tbody tr th:only-of-type {\n",
       "        vertical-align: middle;\n",
       "    }\n",
       "\n",
       "    .dataframe tbody tr th {\n",
       "        vertical-align: top;\n",
       "    }\n",
       "\n",
       "    .dataframe thead th {\n",
       "        text-align: right;\n",
       "    }\n",
       "</style>\n",
       "<table border=\"1\" class=\"dataframe\">\n",
       "  <thead>\n",
       "    <tr style=\"text-align: right;\">\n",
       "      <th></th>\n",
       "      <th>distance</th>\n",
       "      <th>year</th>\n",
       "      <th>topic</th>\n",
       "      <th>Rep_terms</th>\n",
       "      <th>Dem_terms</th>\n",
       "      <th>Rep_strength</th>\n",
       "      <th>Dem_strength</th>\n",
       "      <th>rank</th>\n",
       "    </tr>\n",
       "  </thead>\n",
       "  <tbody>\n",
       "    <tr>\n",
       "      <th>29</th>\n",
       "      <td>0.330601</td>\n",
       "      <td>1983</td>\n",
       "      <td>space</td>\n",
       "      <td>century, recognition, 98th_congress, heritage,...</td>\n",
       "      <td>full, form, amount, future, service</td>\n",
       "      <td>0.264990</td>\n",
       "      <td>0.274741</td>\n",
       "      <td>1</td>\n",
       "    </tr>\n",
       "    <tr>\n",
       "      <th>19</th>\n",
       "      <td>0.297887</td>\n",
       "      <td>1983</td>\n",
       "      <td>veterans</td>\n",
       "      <td>generation, turn, choose, blind, primary</td>\n",
       "      <td>first, request, conduct, numerous, vital</td>\n",
       "      <td>0.228684</td>\n",
       "      <td>0.254640</td>\n",
       "      <td>2</td>\n",
       "    </tr>\n",
       "    <tr>\n",
       "      <th>28</th>\n",
       "      <td>0.279639</td>\n",
       "      <td>1983</td>\n",
       "      <td>natural_resources_water</td>\n",
       "      <td>relief, folk, movement, range, general</td>\n",
       "      <td>natural_resource, evaluation, understanding, d...</td>\n",
       "      <td>0.237923</td>\n",
       "      <td>0.187668</td>\n",
       "      <td>3</td>\n",
       "    </tr>\n",
       "    <tr>\n",
       "      <th>46</th>\n",
       "      <td>0.321589</td>\n",
       "      <td>1984</td>\n",
       "      <td>small_business</td>\n",
       "      <td>seem, sector, choose, corporate, direction</td>\n",
       "      <td>suffer, strike, only, evin, open</td>\n",
       "      <td>0.305096</td>\n",
       "      <td>0.213819</td>\n",
       "      <td>1</td>\n",
       "    </tr>\n",
       "    <tr>\n",
       "      <th>33</th>\n",
       "      <td>0.278669</td>\n",
       "      <td>1984</td>\n",
       "      <td>social_security</td>\n",
       "      <td>barber_conable, organization, tradition, read,...</td>\n",
       "      <td>cut, reinstate, die, fiscal_year, individual</td>\n",
       "      <td>0.240922</td>\n",
       "      <td>0.220953</td>\n",
       "      <td>2</td>\n",
       "    </tr>\n",
       "    <tr>\n",
       "      <th>...</th>\n",
       "      <td>...</td>\n",
       "      <td>...</td>\n",
       "      <td>...</td>\n",
       "      <td>...</td>\n",
       "      <td>...</td>\n",
       "      <td>...</td>\n",
       "      <td>...</td>\n",
       "      <td>...</td>\n",
       "    </tr>\n",
       "    <tr>\n",
       "      <th>1121</th>\n",
       "      <td>0.426732</td>\n",
       "      <td>2015</td>\n",
       "      <td>healthcare</td>\n",
       "      <td></td>\n",
       "      <td></td>\n",
       "      <td>NaN</td>\n",
       "      <td>NaN</td>\n",
       "      <td>2</td>\n",
       "    </tr>\n",
       "    <tr>\n",
       "      <th>1127</th>\n",
       "      <td>0.382390</td>\n",
       "      <td>2015</td>\n",
       "      <td>national_debt</td>\n",
       "      <td>spending, taxis, simple, national_debt, balance</td>\n",
       "      <td>clean, pell_grant, affordable, refinance, college</td>\n",
       "      <td>0.328072</td>\n",
       "      <td>0.303822</td>\n",
       "      <td>3</td>\n",
       "    </tr>\n",
       "    <tr>\n",
       "      <th>1156</th>\n",
       "      <td>0.492861</td>\n",
       "      <td>2016</td>\n",
       "      <td>abortion</td>\n",
       "      <td>prolife, life, unborn, violate, human</td>\n",
       "      <td>safe, attempt, reproductive_health, women, per...</td>\n",
       "      <td>0.358986</td>\n",
       "      <td>0.487873</td>\n",
       "      <td>1</td>\n",
       "    </tr>\n",
       "    <tr>\n",
       "      <th>1153</th>\n",
       "      <td>0.480509</td>\n",
       "      <td>2016</td>\n",
       "      <td>guns</td>\n",
       "      <td>executive_order, overreach, executive, secure_...</td>\n",
       "      <td>gun_violence, today, orlando, house, republican</td>\n",
       "      <td>0.338362</td>\n",
       "      <td>0.300540</td>\n",
       "      <td>2</td>\n",
       "    </tr>\n",
       "    <tr>\n",
       "      <th>1155</th>\n",
       "      <td>0.403893</td>\n",
       "      <td>2016</td>\n",
       "      <td>nuclear_weapons</td>\n",
       "      <td>obama_administration, public, dollar, receive,...</td>\n",
       "      <td>undermine, compliance, jcpoa, monitor, historic</td>\n",
       "      <td>0.331962</td>\n",
       "      <td>0.378988</td>\n",
       "      <td>3</td>\n",
       "    </tr>\n",
       "  </tbody>\n",
       "</table>\n",
       "<p>102 rows × 8 columns</p>\n",
       "</div>"
      ],
      "text/plain": [
       "      distance  year                    topic  \\\n",
       "29    0.330601  1983                    space   \n",
       "19    0.297887  1983                 veterans   \n",
       "28    0.279639  1983  natural_resources_water   \n",
       "46    0.321589  1984           small_business   \n",
       "33    0.278669  1984          social_security   \n",
       "...        ...   ...                      ...   \n",
       "1121  0.426732  2015               healthcare   \n",
       "1127  0.382390  2015            national_debt   \n",
       "1156  0.492861  2016                 abortion   \n",
       "1153  0.480509  2016                     guns   \n",
       "1155  0.403893  2016          nuclear_weapons   \n",
       "\n",
       "                                              Rep_terms  \\\n",
       "29    century, recognition, 98th_congress, heritage,...   \n",
       "19             generation, turn, choose, blind, primary   \n",
       "28               relief, folk, movement, range, general   \n",
       "46           seem, sector, choose, corporate, direction   \n",
       "33    barber_conable, organization, tradition, read,...   \n",
       "...                                                 ...   \n",
       "1121                                                      \n",
       "1127    spending, taxis, simple, national_debt, balance   \n",
       "1156              prolife, life, unborn, violate, human   \n",
       "1153  executive_order, overreach, executive, secure_...   \n",
       "1155  obama_administration, public, dollar, receive,...   \n",
       "\n",
       "                                              Dem_terms  Rep_strength  \\\n",
       "29                  full, form, amount, future, service      0.264990   \n",
       "19             first, request, conduct, numerous, vital      0.228684   \n",
       "28    natural_resource, evaluation, understanding, d...      0.237923   \n",
       "46                     suffer, strike, only, evin, open      0.305096   \n",
       "33         cut, reinstate, die, fiscal_year, individual      0.240922   \n",
       "...                                                 ...           ...   \n",
       "1121                                                              NaN   \n",
       "1127  clean, pell_grant, affordable, refinance, college      0.328072   \n",
       "1156  safe, attempt, reproductive_health, women, per...      0.358986   \n",
       "1153    gun_violence, today, orlando, house, republican      0.338362   \n",
       "1155    undermine, compliance, jcpoa, monitor, historic      0.331962   \n",
       "\n",
       "      Dem_strength  rank  \n",
       "29        0.274741     1  \n",
       "19        0.254640     2  \n",
       "28        0.187668     3  \n",
       "46        0.213819     1  \n",
       "33        0.220953     2  \n",
       "...            ...   ...  \n",
       "1121           NaN     2  \n",
       "1127      0.303822     3  \n",
       "1156      0.487873     1  \n",
       "1153      0.300540     2  \n",
       "1155      0.378988     3  \n",
       "\n",
       "[102 rows x 8 columns]"
      ]
     },
     "execution_count": 11,
     "metadata": {},
     "output_type": "execute_result"
    }
   ],
   "source": [
    "df"
   ]
  },
  {
   "cell_type": "code",
   "execution_count": 12,
   "id": "4b7bcfb0",
   "metadata": {},
   "outputs": [],
   "source": [
    "df.to_csv('Results/top_topics_and_terms.csv')"
   ]
  },
  {
   "cell_type": "code",
   "execution_count": null,
   "id": "3878cd56",
   "metadata": {},
   "outputs": [],
   "source": []
  }
 ],
 "metadata": {
  "kernelspec": {
   "display_name": "Python 3",
   "language": "python",
   "name": "python3"
  },
  "language_info": {
   "codemirror_mode": {
    "name": "ipython",
    "version": 3
   },
   "file_extension": ".py",
   "mimetype": "text/x-python",
   "name": "python",
   "nbconvert_exporter": "python",
   "pygments_lexer": "ipython3",
   "version": "3.8.8"
  }
 },
 "nbformat": 4,
 "nbformat_minor": 5
}
