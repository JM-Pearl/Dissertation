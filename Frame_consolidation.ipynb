{
 "cells": [
  {
   "cell_type": "markdown",
   "id": "6452dc50",
   "metadata": {},
   "source": [
    "# Frame Consolidation Analysis\n",
    "This notebook inve3stigates whether legislators within parties have become more consistent in their language use over the past 34 yeras."
   ]
  },
  {
   "cell_type": "code",
   "execution_count": 1,
   "id": "e0167549",
   "metadata": {},
   "outputs": [],
   "source": [
    "%run Frame_analysis_functions.py\n",
    "import joblib\n",
    "import seaborn as sns\n",
    "from scipy.spatial.distance import cosine\n",
    "from plotnine import ggplot, aes, geoms"
   ]
  },
  {
   "cell_type": "code",
   "execution_count": 20,
   "id": "f9b4776c",
   "metadata": {},
   "outputs": [],
   "source": [
    "# Read in data\n",
    "all_df = pd.read_csv('Results/All_speeches_labelled.csv')\n",
    "all_df = all_df.loc[all_df.party_y != 'I']\n",
    "\n",
    "term_df = pd.read_csv('Results/term_correlations_frames.csv')\n",
    "\n",
    "combinations = []\n",
    "for year in range(1983,2017):\n",
    "    for topic in all_df.dynamic_label.unique():\n",
    "        combinations.append((year,topic))"
   ]
  },
  {
   "cell_type": "code",
   "execution_count": 170,
   "id": "7d190f17",
   "metadata": {},
   "outputs": [],
   "source": [
    "def run_pairwise_cos(mat):\n",
    "    \"\"\"\n",
    "    Performs comparison of term distributions for every legislator\n",
    "    with every other legislator in party, then calculates M,SD\n",
    "    \n",
    "    args:\n",
    "        - a matrix of term distributions for every legislator\n",
    "    output:\n",
    "        - mean and sd of all pairwise comparisons\n",
    "    \n",
    "    \"\"\"\n",
    "    \n",
    "    cos_mat = np.zeros([mat.shape[0],mat.shape[0]])\n",
    "    for i in range(mat.shape[0]):\n",
    "        for j in range(mat.shape[0]):\n",
    "            if i != j:\n",
    "                cos_mat[i,j] = 1 - cosine(mat[i,:],mat[j,:])\n",
    "\n",
    "    upper_tri = cos_mat[np.triu_indices_from(cos_mat,1)]\n",
    "    mean = np.mean(upper_tri)\n",
    "    std = np.std(upper_tri)\n",
    "    return mean,std"
   ]
  },
  {
   "cell_type": "code",
   "execution_count": 171,
   "id": "5d953cca",
   "metadata": {},
   "outputs": [],
   "source": [
    "def run_conslidation(year,topic):\n",
    "    \n",
    "    sub_df = all_df.loc[(all_df.year_y == year) & (all_df.dynamic_label == topic)]\n",
    "    if len(sub_df) > 0:\n",
    "        \n",
    "        # make DTM\n",
    "        DTM = make_DTM(sub_df,binary=False,remove_speaker=False) # Make DTM\n",
    "        \n",
    "        # get polarizating terms from frame polarization nalysis\n",
    "        terms = term_df.loc[(term_df.topic == topic) & (term_df.year == year)]\n",
    "    \n",
    "        # subset party legislators and terms with Dem/Rep Partisanship score (e.g Party Messages)\n",
    "        DTM_D = DTM.loc[DTM.party_y == 'D']\n",
    "        D_drop = [col for col in DTM_D.columns if col not in terms.loc[terms.correlation < 0,'term'].values]\n",
    "        np_d = DTM_D.drop(D_drop,1).to_numpy()\n",
    "        np_d = np_d[[True if i > 0 else False for i in np_d.sum(1)],:]\n",
    "\n",
    "        DTM_R = DTM.loc[DTM.party_y == 'R']\n",
    "        R_drop = [col for col in DTM_R.columns if col not in terms.loc[terms.correlation > 0,'term'].values]\n",
    "        np_r = DTM_R.drop(R_drop,1).to_numpy()\n",
    "        np_r = np_r[[True if i > 0 else False for i in np_r.sum(1)],:]\n",
    "        \n",
    "        # run pairwise comparisons\n",
    "        dem_mean,dem_sd = run_pairwise_cos(np_d)\n",
    "        rep_mean,rep_sd = run_pairwise_cos(np_r)\n",
    "\n",
    "        return {\"year\":year,\n",
    "                'topic':topic,\n",
    "                'dem_mean':dem_mean,\n",
    "                'dem_std':dem_sd,\n",
    "                'rep_mean':rep_mean,\n",
    "                \"rep_std\":rep_sd}"
   ]
  },
  {
   "cell_type": "code",
   "execution_count": 135,
   "id": "8bcfe248",
   "metadata": {},
   "outputs": [
    {
     "name": "stderr",
     "output_type": "stream",
     "text": [
      "2016 healthcare: 100%|██████████| 2142/2142 [16:13<00:00,  2.20it/s]               \n"
     ]
    }
   ],
   "source": [
    "Results = []\n",
    "pbar = tqdm(combinations)\n",
    "for combination in pbar:\n",
    "    pbar.set_description(\"%s %s\"%combination)\n",
    "    year,topic = combination\n",
    "    if topic not in ['procedural','tribute','armenian_genocide']:\n",
    "        f = run_conslidation(year,topic)\n",
    "        if f:\n",
    "            Results.append(f)\n"
   ]
  },
  {
   "cell_type": "code",
   "execution_count": 136,
   "id": "318635dc",
   "metadata": {},
   "outputs": [],
   "source": [
    "consolidation_df = pd.DataFrame(Results)"
   ]
  },
  {
   "cell_type": "code",
   "execution_count": 154,
   "id": "4b3c4f11",
   "metadata": {},
   "outputs": [],
   "source": [
    "consolidation_df.to_csv('Results/Frame_consolidation.csv')"
   ]
  }
 ],
 "metadata": {
  "kernelspec": {
   "display_name": "Python 3",
   "language": "python",
   "name": "python3"
  },
  "language_info": {
   "codemirror_mode": {
    "name": "ipython",
    "version": 3
   },
   "file_extension": ".py",
   "mimetype": "text/x-python",
   "name": "python",
   "nbconvert_exporter": "python",
   "pygments_lexer": "ipython3",
   "version": "3.8.8"
  }
 },
 "nbformat": 4,
 "nbformat_minor": 5
}
