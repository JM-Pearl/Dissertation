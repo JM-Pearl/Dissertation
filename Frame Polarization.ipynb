{
 "cells": [
  {
   "cell_type": "code",
   "execution_count": 8,
   "id": "bf648358",
   "metadata": {},
   "outputs": [],
   "source": [
    "import pandas as pd\n",
    "import numpy as np\n",
    "\n",
    "from corpus_toolkit import corpus_tools as ct"
   ]
  },
  {
   "cell_type": "code",
   "execution_count": 54,
   "id": "5705e213",
   "metadata": {},
   "outputs": [],
   "source": [
    "df = pd.read_csv('Results/All_speeches_labelled.csv')"
   ]
  },
  {
   "cell_type": "code",
   "execution_count": 43,
   "id": "9c92a7ef",
   "metadata": {},
   "outputs": [],
   "source": [
    "def perform_keyness(topic,year):\n",
    "    sub_df = df.loc[(df.dynamic_label == topic) & (df.year_x == year)]\n",
    "\n",
    "    dem_df = sub_df.loc[sub_df.party_y == 'D']\n",
    "    rep_df = sub_df.loc[sub_df.party_y == 'R']\n",
    "    \n",
    "    dem_text = dem_df.speech_processed\n",
    "    rep_text = rep_df.speech_processed\n",
    "    \n",
    "    d_freq = ct.frequency(ct.tokenize(dem_text))\n",
    "    r_freq = ct.frequency(ct.tokenize(rep_text))\n",
    "    \n",
    "    d_keyness = ct.keyness(d_freq,r_freq,effect='log-ratio')\n",
    "    r_keyness = ct.keyness(r_freq,d_freq,effect='log-ratio')\n",
    "    return d_freq, d_keyness, r_freq, r_keyness"
   ]
  },
  {
   "cell_type": "code",
   "execution_count": 53,
   "id": "bdeead29",
   "metadata": {},
   "outputs": [
    {
     "ename": "AttributeError",
     "evalue": "'dict' object has no attribute 'loc'",
     "output_type": "error",
     "traceback": [
      "\u001b[0;31m---------------------------------------------------------------------------\u001b[0m",
      "\u001b[0;31mAttributeError\u001b[0m                            Traceback (most recent call last)",
      "\u001b[0;32m<ipython-input-53-5c73b6543d01>\u001b[0m in \u001b[0;36m<module>\u001b[0;34m\u001b[0m\n\u001b[0;32m----> 1\u001b[0;31m \u001b[0mdf\u001b[0m\u001b[0;34m,\u001b[0m\u001b[0mdk\u001b[0m\u001b[0;34m,\u001b[0m\u001b[0mrf\u001b[0m\u001b[0;34m,\u001b[0m\u001b[0mrk\u001b[0m \u001b[0;34m=\u001b[0m \u001b[0mperform_keyness\u001b[0m\u001b[0;34m(\u001b[0m\u001b[0;34m'abortion'\u001b[0m\u001b[0;34m,\u001b[0m\u001b[0;36m2011\u001b[0m\u001b[0;34m)\u001b[0m\u001b[0;34m\u001b[0m\u001b[0;34m\u001b[0m\u001b[0m\n\u001b[0m",
      "\u001b[0;32m<ipython-input-43-1304aa6f839e>\u001b[0m in \u001b[0;36mperform_keyness\u001b[0;34m(topic, year)\u001b[0m\n\u001b[1;32m      1\u001b[0m \u001b[0;32mdef\u001b[0m \u001b[0mperform_keyness\u001b[0m\u001b[0;34m(\u001b[0m\u001b[0mtopic\u001b[0m\u001b[0;34m,\u001b[0m\u001b[0myear\u001b[0m\u001b[0;34m)\u001b[0m\u001b[0;34m:\u001b[0m\u001b[0;34m\u001b[0m\u001b[0;34m\u001b[0m\u001b[0m\n\u001b[0;32m----> 2\u001b[0;31m     \u001b[0msub_df\u001b[0m \u001b[0;34m=\u001b[0m \u001b[0mdf\u001b[0m\u001b[0;34m.\u001b[0m\u001b[0mloc\u001b[0m\u001b[0;34m[\u001b[0m\u001b[0;34m(\u001b[0m\u001b[0mdf\u001b[0m\u001b[0;34m.\u001b[0m\u001b[0mdynamic_label\u001b[0m \u001b[0;34m==\u001b[0m \u001b[0mtopic\u001b[0m\u001b[0;34m)\u001b[0m \u001b[0;34m&\u001b[0m \u001b[0;34m(\u001b[0m\u001b[0mdf\u001b[0m\u001b[0;34m.\u001b[0m\u001b[0myear_x\u001b[0m \u001b[0;34m==\u001b[0m \u001b[0myear\u001b[0m\u001b[0;34m)\u001b[0m\u001b[0;34m]\u001b[0m\u001b[0;34m\u001b[0m\u001b[0;34m\u001b[0m\u001b[0m\n\u001b[0m\u001b[1;32m      3\u001b[0m \u001b[0;34m\u001b[0m\u001b[0m\n\u001b[1;32m      4\u001b[0m     \u001b[0mdem_df\u001b[0m \u001b[0;34m=\u001b[0m \u001b[0msub_df\u001b[0m\u001b[0;34m.\u001b[0m\u001b[0mloc\u001b[0m\u001b[0;34m[\u001b[0m\u001b[0msub_df\u001b[0m\u001b[0;34m.\u001b[0m\u001b[0mparty_y\u001b[0m \u001b[0;34m==\u001b[0m \u001b[0;34m'D'\u001b[0m\u001b[0;34m]\u001b[0m\u001b[0;34m\u001b[0m\u001b[0;34m\u001b[0m\u001b[0m\n\u001b[1;32m      5\u001b[0m     \u001b[0mrep_df\u001b[0m \u001b[0;34m=\u001b[0m \u001b[0msub_df\u001b[0m\u001b[0;34m.\u001b[0m\u001b[0mloc\u001b[0m\u001b[0;34m[\u001b[0m\u001b[0msub_df\u001b[0m\u001b[0;34m.\u001b[0m\u001b[0mparty_y\u001b[0m \u001b[0;34m==\u001b[0m \u001b[0;34m'R'\u001b[0m\u001b[0;34m]\u001b[0m\u001b[0;34m\u001b[0m\u001b[0;34m\u001b[0m\u001b[0m\n",
      "\u001b[0;31mAttributeError\u001b[0m: 'dict' object has no attribute 'loc'"
     ]
    }
   ],
   "source": [
    "dfreq,dkey,rfreq,rkey = perform_keyness('abortion',2011)"
   ]
  },
  {
   "cell_type": "code",
   "execution_count": 48,
   "id": "e5fa46e2",
   "metadata": {},
   "outputs": [
    {
     "name": "stdout",
     "output_type": "stream",
     "text": [
      "be\t2907\n",
      "have\t971\n",
      "woman\t936\n",
      "abortion\t523\n",
      "bill\t509\n",
      "do\t450\n",
      "fund\t353\n",
      "service\t319\n",
      "health_care\t310\n",
      "health\t276\n",
      "republican\t253\n",
      "go\t251\n",
      "plan_parenthood\t240\n",
      "american\t237\n",
      "say\t221\n",
      "want\t218\n",
      "care\t218\n",
      "right\t217\n",
      "federal\t212\n",
      "make\t206\n"
     ]
    }
   ],
   "source": [
    "ct.head(df,hits=20)"
   ]
  },
  {
   "cell_type": "code",
   "execution_count": 47,
   "id": "afec9e46",
   "metadata": {},
   "outputs": [
    {
     "name": "stdout",
     "output_type": "stream",
     "text": [
      "be\t2528\n",
      "have\t889\n",
      "abortion\t750\n",
      "plan_parenthood\t399\n",
      "do\t365\n",
      "life\t345\n",
      "fund\t329\n",
      "bill\t268\n",
      "woman\t247\n",
      "say\t242\n",
      "american\t210\n",
      "time\t194\n",
      "taxpayer\t188\n",
      "use\t186\n",
      "go\t176\n",
      "child\t176\n",
      "protect\t164\n",
      "year\t158\n",
      "support\t158\n",
      "right\t154\n"
     ]
    }
   ],
   "source": [
    "ct.head(rf,hits=20)"
   ]
  },
  {
   "cell_type": "code",
   "execution_count": 30,
   "id": "ea0a53a2",
   "metadata": {},
   "outputs": [
    {
     "data": {
      "text/plain": [
       "0         1983\n",
       "1         1983\n",
       "2         1983\n",
       "3         1983\n",
       "4         1983\n",
       "          ... \n",
       "575603    2016\n",
       "575604    2016\n",
       "575605    2016\n",
       "575606    2016\n",
       "575607    2016\n",
       "Name: year_x, Length: 575608, dtype: int64"
      ]
     },
     "execution_count": 30,
     "metadata": {},
     "output_type": "execute_result"
    }
   ],
   "source": [
    "df.year_x"
   ]
  },
  {
   "cell_type": "code",
   "execution_count": null,
   "id": "f50a25b6",
   "metadata": {},
   "outputs": [],
   "source": []
  }
 ],
 "metadata": {
  "kernelspec": {
   "display_name": "conda_python3",
   "language": "python",
   "name": "conda_python3"
  },
  "language_info": {
   "codemirror_mode": {
    "name": "ipython",
    "version": 3
   },
   "file_extension": ".py",
   "mimetype": "text/x-python",
   "name": "python",
   "nbconvert_exporter": "python",
   "pygments_lexer": "ipython3",
   "version": "3.6.13"
  }
 },
 "nbformat": 4,
 "nbformat_minor": 5
}
