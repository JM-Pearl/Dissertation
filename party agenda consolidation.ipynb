{
 "cells": [
  {
   "cell_type": "code",
   "execution_count": 1,
   "id": "288bbdea",
   "metadata": {},
   "outputs": [],
   "source": [
    "import pandas as pd\n",
    "import numpy as np\n",
    "import joblib\n",
    "\n",
    "from scipy.spatial.distance import cosine, jensenshannon\n",
    "from sklearn.preprocessing import normalize\n",
    "\n",
    "from plotnine import ggplot, aes, geoms\n",
    "from tqdm import tqdm"
   ]
  },
  {
   "cell_type": "code",
   "execution_count": 2,
   "id": "513d79df",
   "metadata": {},
   "outputs": [],
   "source": [
    "with open('Results/Official_TopicModel_80k.pkl','rb') as File:\n",
    "    models = joblib.load(File)\n",
    "    \n",
    "all_df = pd.read_csv('Results/All_speeches_labelled.csv')"
   ]
  },
  {
   "cell_type": "code",
   "execution_count": 3,
   "id": "e450b650",
   "metadata": {},
   "outputs": [],
   "source": [
    "def select_data(year):\n",
    "    \"\"\"\n",
    "    convenience function for extracting X,Y data and dataframe\n",
    "    \"\"\"\n",
    "    sub_df = all_df.loc[all_df.year == year]\n",
    "    model = [mod for mod in models['window_models'] if mod['year'] == year][0]    \n",
    "    W = normalize(model['W'])\n",
    "    \n",
    "    return W,sub_df[['party','unique_ID']].reset_index()"
   ]
  },
  {
   "cell_type": "code",
   "execution_count": 4,
   "id": "507d75bd",
   "metadata": {},
   "outputs": [],
   "source": [
    "def get_avg_dist_partisan(df,W,speaker):\n",
    "    speaker_df_index = df.loc[df.unique_ID == speaker].index\n",
    "    speaker_W = W[speaker_df_index,:]\n",
    "    return np.mean(speaker_W,0)\n",
    "\n",
    "\n",
    "def run_pairwise_cos(mat):\n",
    "    cos_mat = np.zeros([mat.shape[0],mat.shape[0]])\n",
    "    for i,dist in enumerate(mat):\n",
    "        for ii, dist2 in enumerate(mat):\n",
    "            if i != ii:\n",
    "                cos_mat[i,ii] = 1 - jensenshannon(dist,dist2)\n",
    "\n",
    "    upper_tri = cos_mat[np.triu_indices_from(cos_mat,1)]\n",
    "    mean = np.mean(upper_tri)\n",
    "    std = np.std(upper_tri)\n",
    "    return mean,std"
   ]
  },
  {
   "cell_type": "code",
   "execution_count": 5,
   "id": "2c5a445c",
   "metadata": {},
   "outputs": [],
   "source": [
    "    \n",
    "def Run_year(year):\n",
    "    W,df = select_data(year)\n",
    "\n",
    "    row = {}\n",
    "\n",
    "    speakers = df.groupby('unique_ID').first().reset_index()\n",
    "\n",
    "    avg_dists = []\n",
    "    for speaker in speakers.iterrows():\n",
    "        speaker = speaker[1]\n",
    "        avg_dist = get_avg_dist_partisan(df,W,speaker.unique_ID)\n",
    "        avg_dists.append({\"unique_ID\":speaker.unique_ID,'party':speaker.party,'dist':avg_dist})\n",
    "\n",
    "    year_df = pd.DataFrame(avg_dists)\n",
    "\n",
    "    D_matrix = np.array([x for x in year_df.loc[year_df.party == 'D','dist'].values])\n",
    "    R_matrix = np.array([x for x in year_df.loc[year_df.party == 'R','dist'].values])\n",
    "\n",
    "    row['D_mean'],row['D_std'] = run_pairwise_cos(D_matrix)\n",
    "    row['R_mean'],row['R_std'] = run_pairwise_cos(R_matrix)\n",
    "\n",
    "    row['year'] = year\n",
    "    return row"
   ]
  },
  {
   "cell_type": "code",
   "execution_count": 6,
   "id": "c1ad0c8c",
   "metadata": {},
   "outputs": [
    {
     "name": "stderr",
     "output_type": "stream",
     "text": [
      "100%|██████████| 34/34 [01:18<00:00,  2.31s/it]\n"
     ]
    }
   ],
   "source": [
    "consolidation = []\n",
    "for year in tqdm(range(1983,2017)):\n",
    "    consolidation.append(Run_year(year))"
   ]
  },
  {
   "cell_type": "code",
   "execution_count": 7,
   "id": "dff3ecbd",
   "metadata": {},
   "outputs": [],
   "source": [
    "all_df = pd.DataFrame(consolidation)"
   ]
  },
  {
   "cell_type": "code",
   "execution_count": 8,
   "id": "583fc0c4",
   "metadata": {},
   "outputs": [],
   "source": [
    "all_df.to_csv('Results/consolidation_new.csv')"
   ]
  },
  {
   "cell_type": "code",
   "execution_count": null,
   "id": "7294af49",
   "metadata": {},
   "outputs": [],
   "source": []
  }
 ],
 "metadata": {
  "interpreter": {
   "hash": "40d3a090f54c6569ab1632332b64b2c03c39dcf918b08424e98f38b5ae0af88f"
  },
  "kernelspec": {
   "display_name": "Python 3",
   "language": "python",
   "name": "python3"
  },
  "language_info": {
   "codemirror_mode": {
    "name": "ipython",
    "version": 3
   },
   "file_extension": ".py",
   "mimetype": "text/x-python",
   "name": "python",
   "nbconvert_exporter": "python",
   "pygments_lexer": "ipython3",
   "version": "3.8.8"
  }
 },
 "nbformat": 4,
 "nbformat_minor": 5
}
