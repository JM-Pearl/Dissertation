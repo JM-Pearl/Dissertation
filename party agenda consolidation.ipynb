{
 "cells": [
  {
   "cell_type": "code",
   "execution_count": 147,
   "id": "288bbdea",
   "metadata": {},
   "outputs": [],
   "source": [
    "import pandas as pd\n",
    "import numpy as np\n",
    "import joblib\n",
    "\n",
    "from scipy.spatial.distance import cosine, jensenshannon\n",
    "from sklearn.preprocessing import normalize\n",
    "\n",
    "from tqdm import tqdm"
   ]
  },
  {
   "cell_type": "code",
   "execution_count": 151,
   "id": "513d79df",
   "metadata": {},
   "outputs": [],
   "source": [
    "with open('Results/Official_TopicModel_80k.pkl','rb') as File:\n",
    "    models = joblib.load(File)\n",
    "    \n",
    "all_df = pd.read_csv('Results/All_speeches_labelled.csv')"
   ]
  },
  {
   "cell_type": "code",
   "execution_count": 152,
   "id": "e450b650",
   "metadata": {},
   "outputs": [],
   "source": [
    "def select_data(year):\n",
    "    \"\"\"\n",
    "    convenience function for extracting X,Y data and dataframe\n",
    "    \"\"\"\n",
    "    sub_df = all_df.loc[all_df.year_x == year]\n",
    "    model = [mod for mod in models['window_models'] if mod['year'] == year][0]    \n",
    "    W = normalize(model['W'])\n",
    "    \n",
    "    return W,sub_df[['party_y','speaker']].reset_index()"
   ]
  },
  {
   "cell_type": "code",
   "execution_count": 153,
   "id": "507d75bd",
   "metadata": {},
   "outputs": [],
   "source": [
    "def get_avg_dist_partisan(df,W,speaker):\n",
    "    speaker_df_index = df.loc[df.speaker == speaker].index\n",
    "    speaker_W = W[speaker_df_index,:]\n",
    "    return np.mean(speaker_W,0)\n",
    "\n",
    "\n",
    "def run_pairwise_cos(mat):\n",
    "    cos = []\n",
    "    for i,dist in enumerate(mat):\n",
    "        for ii, dist2 in enumerate(mat):\n",
    "            if i != ii:\n",
    "                cos.append(1 - jensenshannon(dist,dist2))\n",
    "    mean = np.mean(cos)\n",
    "    std = np.std(cos)\n",
    "    return mean,std"
   ]
  },
  {
   "cell_type": "code",
   "execution_count": 154,
   "id": "2c5a445c",
   "metadata": {},
   "outputs": [],
   "source": [
    "def Run_year(year):\n",
    "    W,df = select_data(year)\n",
    "\n",
    "    row = {}\n",
    "\n",
    "    speakers = df.groupby('speaker').first().reset_index()\n",
    "\n",
    "    avg_dists = []\n",
    "    for speaker in speakers.iterrows():\n",
    "        speaker = speaker[1]\n",
    "        avg_dist = get_avg_dist_partisan(df,W,speaker.speaker)\n",
    "        avg_dists.append({\"speaker\":speaker.speaker,'party':speaker.party_y,'dist':avg_dist})\n",
    "\n",
    "    year_df = pd.DataFrame(avg_dists)\n",
    "\n",
    "    D_matrix = np.array([x for x in year_df.loc[year_df.party == 'D','dist'].values])\n",
    "    R_matrix = np.array([x for x in year_df.loc[year_df.party == 'R','dist'].values])\n",
    "\n",
    "    row['D_mean'],row['D_std'] = run_pairwise_cos(D_matrix)\n",
    "    row['R_mean'],row['R_std'] = run_pairwise_cos(R_matrix)\n",
    "\n",
    "    row['year'] = year\n",
    "    return row"
   ]
  },
  {
   "cell_type": "code",
   "execution_count": 155,
   "id": "c1ad0c8c",
   "metadata": {},
   "outputs": [
    {
     "name": "stderr",
     "output_type": "stream",
     "text": [
      "100%|██████████| 34/34 [02:59<00:00,  5.29s/it]\n"
     ]
    }
   ],
   "source": [
    "consolidation = []\n",
    "for year in tqdm(range(1983,2017)):\n",
    "    consolidation.append(Run_year(year))"
   ]
  },
  {
   "cell_type": "code",
   "execution_count": 156,
   "id": "dff3ecbd",
   "metadata": {},
   "outputs": [],
   "source": [
    "all_df = pd.DataFrame(consolidation)"
   ]
  },
  {
   "cell_type": "code",
   "execution_count": 160,
   "id": "71c28809",
   "metadata": {},
   "outputs": [
    {
     "data": {
      "text/plain": [
       "<AxesSubplot:xlabel='year'>"
      ]
     },
     "execution_count": 160,
     "metadata": {},
     "output_type": "execute_result"
    },
    {
     "data": {
      "image/png": "[encoded data removed]",
      "text/plain": [
       "<Figure size 432x288 with 1 Axes>"
      ]
     },
     "metadata": {
      "needs_background": "light"
     },
     "output_type": "display_data"
    }
   ],
   "source": [
    "all_df.plot(x='year',y='D_mean')"
   ]
  },
  {
   "cell_type": "code",
   "execution_count": 161,
   "id": "583fc0c4",
   "metadata": {},
   "outputs": [],
   "source": [
    "all_df.to_csv('Results/consolidation.csv')"
   ]
  },
  {
   "cell_type": "code",
   "execution_count": null,
   "id": "7294af49",
   "metadata": {},
   "outputs": [],
   "source": []
  }
 ],
 "metadata": {
  "kernelspec": {
   "display_name": "conda_python3",
   "language": "python",
   "name": "conda_python3"
  },
  "language_info": {
   "codemirror_mode": {
    "name": "ipython",
    "version": 3
   },
   "file_extension": ".py",
   "mimetype": "text/x-python",
   "name": "python",
   "nbconvert_exporter": "python",
   "pygments_lexer": "ipython3",
   "version": "3.6.13"
  }
 },
 "nbformat": 4,
 "nbformat_minor": 5
}
