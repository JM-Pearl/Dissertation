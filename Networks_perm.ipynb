{
 "cells": [
  {
   "cell_type": "code",
   "execution_count": 113,
   "id": "f4bfc3b7",
   "metadata": {},
   "outputs": [],
   "source": [
    "import numpy as np\n",
    "import pandas as pd\n",
    "import os, joblib\n",
    "\n",
    "from scipy.spatial.distance import cosine\n",
    "from scipy.stats import pearsonr\n",
    "from statsmodels.stats.multitest import fdrcorrection\n",
    "\n",
    "from sklearn.preprocessing import normalize,StandardScaler, minmax_scale\n",
    "from tqdm import tqdm\n",
    "import matplotlib.pyplot as plt\n",
    "import seaborn as sns\n",
    "\n",
    "from plotnine import ggplot, aes, geoms, scales\n",
    "from pyvis.network import Network\n",
    "from scipy.stats import pearsonr\n",
    "\n",
    "import networkx as nx"
   ]
  },
  {
   "cell_type": "code",
   "execution_count": 2,
   "id": "6fce2a5f",
   "metadata": {},
   "outputs": [],
   "source": [
    "all_df = pd.read_csv('Results/All_speeches_labelled.csv')"
   ]
  },
  {
   "cell_type": "code",
   "execution_count": null,
   "id": "5a396aaf",
   "metadata": {},
   "outputs": [],
   "source": [
    "def make_adj(mat,perm=False):\n",
    "    mat_cols = mat.shape[1]\n",
    "    adj = np.zeros([mat_cols,mat_cols])\n",
    "    for i in range(mat_cols):\n",
    "        mi = mat[:,i]\n",
    "        if perm:\n",
    "            _mi = mi.copy()\n",
    "            np.random.shuffle(_mi)\n",
    "        else:\n",
    "            _mi = mi\n",
    "        for j in range(mat_cols):\n",
    "            if i != j:\n",
    "                mj = mat[:,j]\n",
    "                adj[i,j] = 1 - cosine(_mi,mj)\n",
    "    return adj\n",
    "\n",
    "def make_threshed_mat(mat):\n",
    "    true = make_adj(mat)\n",
    "    \n",
    "    nulls = [make_adj(mat,perm=True) for i in range(200)]\n",
    "    proportions = np.greater_equal(nulls,true).sum(0)\n",
    "    Pvals = proportions/200\n",
    "    \n",
    "    indices = np.triu_indices_from(Pvals,1)\n",
    "    p_tri = Pvals[indices]\n",
    "    \n",
    "    indices = np.array(indices)\n",
    "    corrected = fdrcorrection(p_tri)[0]\n",
    "    for ix, val in enumerate(corrected):\n",
    "        r,c = indices[:,ix]\n",
    "        if not val:\n",
    "            true[r,c] = 0\n",
    "            true[c,r] = 0\n",
    "            \n",
    "    return true"
   ]
  },
  {
   "cell_type": "code",
   "execution_count": 127,
   "id": "c402b9bd",
   "metadata": {},
   "outputs": [],
   "source": [
    "def run_count(year, perm=False):\n",
    "    sub_df = all_df.loc[all_df.year == year]\n",
    "    sub_df = sub_df.loc[-sub_df.dynamic_label.isin(['procedural','tribute','NA'])]\n",
    "    sub_df = sub_df.loc[-sub_df.dynamic_label.isnull()]\n",
    "    sub_parties = sub_df[['unique_ID','party']].groupby('unique_ID').first()\n",
    "    \n",
    "    speaker_counts = (sub_df\n",
    "                      .groupby(['unique_ID','topic_id'])\n",
    "                      .speaker.count()\n",
    "                      .reset_index()\n",
    "                      .pivot(index='unique_ID',columns='topic_id',values='speaker')\n",
    "                      .fillna(0)\n",
    "                      .reset_index()\n",
    "                      .merge(sub_parties,on='unique_ID',how='left')\n",
    "                     )\n",
    "    \n",
    "    if perm: # for null modelling\n",
    "        speaker_counts['party'] = np.random.permutation(speaker_counts['party'])\n",
    "    \n",
    "    names = speaker_counts.columns[1:-1]\n",
    "\n",
    "    Dem_matrix = speaker_counts.loc[speaker_counts.party == 'D'].drop(['unique_ID','party'],1).to_numpy()\n",
    "    Rep_matrix = speaker_counts.loc[speaker_counts.party == 'R'].drop(['unique_ID','party'],1).to_numpy()\n",
    "\n",
    "    dem_adj = make_threshed_mat(Dem_matrix)\n",
    "    rep_adj = make_threshed_mat(Rep_matrix)\n",
    "    \n",
    "    dem_triu = dem_adj[np.triu_indices_from(dem_adj,1)]\n",
    "    rep_triu = rep_adj[np.triu_indices_from(rep_adj,1)]\n",
    "    \n",
    "    return dem_adj, rep_adj, np.abs(dem_adj - rep_adj), pearsonr(dem_triu,rep_triu)[0],names\n",
    "    \n",
    "    "
   ]
  },
  {
   "cell_type": "code",
   "execution_count": 128,
   "id": "7c8a316f",
   "metadata": {},
   "outputs": [],
   "source": [
    "def run_year(year,iters=200):\n",
    "    true_dem, true_rep, true_diff, true_sim,names = run_count(year)\n",
    "    null_diffs = np.zeros([iters,true_diff.shape[0],true_diff.shape[1]])\n",
    "    null_pearson = []\n",
    "    for i in tqdm(range(iters)):\n",
    "        _,_,null_diffs[i,:,:],pearson,_ = run_count(year,True)\n",
    "        null_pearson.append(pearson)\n",
    "    return true_diff, true_sim, null_diffs,null_pearson"
   ]
  },
  {
   "cell_type": "code",
   "execution_count": 140,
   "id": "d391cc71",
   "metadata": {},
   "outputs": [],
   "source": [
    "def run_nulls(year):\n",
    "    _,_,diffs,pearson,_ = run_count(year)\n",
    "    return (diffs,pearson,year)"
   ]
  },
  {
   "cell_type": "code",
   "execution_count": null,
   "id": "a5f82825",
   "metadata": {},
   "outputs": [],
   "source": []
  }
 ],
 "metadata": {
  "kernelspec": {
   "display_name": "Python 3",
   "language": "python",
   "name": "python3"
  },
  "language_info": {
   "codemirror_mode": {
    "name": "ipython",
    "version": 3
   },
   "file_extension": ".py",
   "mimetype": "text/x-python",
   "name": "python",
   "nbconvert_exporter": "python",
   "pygments_lexer": "ipython3",
   "version": "3.8.8"
  }
 },
 "nbformat": 4,
 "nbformat_minor": 5
}
