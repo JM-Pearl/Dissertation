{
 "cells": [
  {
   "cell_type": "markdown",
   "id": "b6a84274",
   "metadata": {},
   "source": [
    "# External Validity Check\n",
    "\n",
    "In this notebook the external validity of specific topics is evaluated through the plotting of attention to the given topic over the entire 33 year period covered by the corpus."
   ]
  },
  {
   "cell_type": "code",
   "execution_count": 241,
   "id": "dfe86822",
   "metadata": {},
   "outputs": [],
   "source": [
    "import pandas as pd\n",
    "import datetime\n",
    "from plotnine import ggplot, aes, geoms, scales, theme, ggtitle, xlim\n",
    "from plotnine import element_blank,element_line,element_rect,element_text, ylab, xlab"
   ]
  },
  {
   "cell_type": "code",
   "execution_count": 2,
   "id": "96372918",
   "metadata": {},
   "outputs": [],
   "source": [
    "df = pd.read_csv('Results/All_speeches_labelled.csv')"
   ]
  },
  {
   "cell_type": "code",
   "execution_count": 6,
   "id": "952229bc",
   "metadata": {},
   "outputs": [],
   "source": [
    "df['date'] = pd.to_datetime(df['date'])\n",
    "df.index = df['date']"
   ]
  },
  {
   "cell_type": "code",
   "execution_count": 243,
   "id": "fa51a971",
   "metadata": {},
   "outputs": [],
   "source": [
    "sub = df.loc[df.dynamic_label.isin(['disaster_relief','disasters'])]\n",
    "sub_grouped = sub.groupby(pd.Grouper(freq='M')).speech_id.count().reset_index()"
   ]
  },
  {
   "cell_type": "code",
   "execution_count": 247,
   "id": "2a077e93",
   "metadata": {},
   "outputs": [],
   "source": [
    "X = (\n",
    "    ggplot(sub_grouped, aes(x = 'date',y='speech_id')) + \n",
    "    geoms.geom_bar(stat='identity') +\n",
    "    theme(figure_size=(12,3),\n",
    "          panel_background=element_blank(),\n",
    "          axis_line=element_line()) +\n",
    "    scales.scale_y_continuous(expand=[0,0]) +\n",
    "    ylab('Monthly Speech Frequency') +\n",
    "    xlab('Date') +\n",
    "    scales.scale_x_datetime(date_breaks='2 years',date_labels='%Y',limits=[datetime.date(1983,1,1), datetime.date(2016,12,31)]) +\n",
    "    ggtitle(\"Disasters\")\n",
    ")"
   ]
  },
  {
   "cell_type": "code",
   "execution_count": 248,
   "id": "a9006fa9",
   "metadata": {},
   "outputs": [
    {
     "data": {
      "image/png": "[encoded data removed]",
      "text/plain": [
       "<Figure size 1200x300 with 1 Axes>"
      ]
     },
     "metadata": {},
     "output_type": "display_data"
    },
    {
     "data": {
      "text/plain": [
       "<ggplot: (8753389114141)>"
      ]
     },
     "execution_count": 248,
     "metadata": {},
     "output_type": "execute_result"
    }
   ],
   "source": [
    "X"
   ]
  },
  {
   "cell_type": "code",
   "execution_count": 199,
   "id": "83c4bce1",
   "metadata": {},
   "outputs": [
    {
     "name": "stderr",
     "output_type": "stream",
     "text": [
      "/home/ec2-user/anaconda3/envs/python3/lib/python3.6/site-packages/plotnine/ggplot.py:721: PlotnineWarning: Saving 12 x 3 in image.\n",
      "/home/ec2-user/anaconda3/envs/python3/lib/python3.6/site-packages/plotnine/ggplot.py:722: PlotnineWarning: Filename: Results/disasters.png\n"
     ]
    }
   ],
   "source": [
    "X.save('Results/disasters.png',dpi=1000)"
   ]
  },
  {
   "cell_type": "markdown",
   "id": "9e0f5f90",
   "metadata": {},
   "source": [
    "### Closer interrogation of spikes for historical context"
   ]
  },
  {
   "cell_type": "code",
   "execution_count": 219,
   "id": "7cbde4aa",
   "metadata": {},
   "outputs": [
    {
     "data": {
      "text/html": [
       "<div>\n",
       "<style scoped>\n",
       "    .dataframe tbody tr th:only-of-type {\n",
       "        vertical-align: middle;\n",
       "    }\n",
       "\n",
       "    .dataframe tbody tr th {\n",
       "        vertical-align: top;\n",
       "    }\n",
       "\n",
       "    .dataframe thead th {\n",
       "        text-align: right;\n",
       "    }\n",
       "</style>\n",
       "<table border=\"1\" class=\"dataframe\">\n",
       "  <thead>\n",
       "    <tr style=\"text-align: right;\">\n",
       "      <th></th>\n",
       "      <th>date</th>\n",
       "      <th>speech_id</th>\n",
       "    </tr>\n",
       "  </thead>\n",
       "  <tbody>\n",
       "    <tr>\n",
       "      <th>557</th>\n",
       "      <td>2001-09-16</td>\n",
       "      <td>334</td>\n",
       "    </tr>\n",
       "    <tr>\n",
       "      <th>339</th>\n",
       "      <td>1997-07-13</td>\n",
       "      <td>172</td>\n",
       "    </tr>\n",
       "    <tr>\n",
       "      <th>1184</th>\n",
       "      <td>2013-09-22</td>\n",
       "      <td>159</td>\n",
       "    </tr>\n",
       "    <tr>\n",
       "      <th>765</th>\n",
       "      <td>2005-09-11</td>\n",
       "      <td>142</td>\n",
       "    </tr>\n",
       "    <tr>\n",
       "      <th>1149</th>\n",
       "      <td>2013-01-20</td>\n",
       "      <td>138</td>\n",
       "    </tr>\n",
       "    <tr>\n",
       "      <th>331</th>\n",
       "      <td>1997-05-18</td>\n",
       "      <td>113</td>\n",
       "    </tr>\n",
       "    <tr>\n",
       "      <th>330</th>\n",
       "      <td>1997-05-11</td>\n",
       "      <td>111</td>\n",
       "    </tr>\n",
       "    <tr>\n",
       "      <th>749</th>\n",
       "      <td>2005-05-22</td>\n",
       "      <td>104</td>\n",
       "    </tr>\n",
       "    <tr>\n",
       "      <th>766</th>\n",
       "      <td>2005-09-18</td>\n",
       "      <td>103</td>\n",
       "    </tr>\n",
       "    <tr>\n",
       "      <th>393</th>\n",
       "      <td>1998-07-26</td>\n",
       "      <td>90</td>\n",
       "    </tr>\n",
       "    <tr>\n",
       "      <th>645</th>\n",
       "      <td>2003-05-25</td>\n",
       "      <td>85</td>\n",
       "    </tr>\n",
       "    <tr>\n",
       "      <th>807</th>\n",
       "      <td>2006-07-02</td>\n",
       "      <td>84</td>\n",
       "    </tr>\n",
       "    <tr>\n",
       "      <th>428</th>\n",
       "      <td>1999-03-28</td>\n",
       "      <td>80</td>\n",
       "    </tr>\n",
       "    <tr>\n",
       "      <th>1070</th>\n",
       "      <td>2011-07-17</td>\n",
       "      <td>77</td>\n",
       "    </tr>\n",
       "    <tr>\n",
       "      <th>70</th>\n",
       "      <td>1992-05-17</td>\n",
       "      <td>77</td>\n",
       "    </tr>\n",
       "  </tbody>\n",
       "</table>\n",
       "</div>"
      ],
      "text/plain": [
       "           date  speech_id\n",
       "557  2001-09-16        334\n",
       "339  1997-07-13        172\n",
       "1184 2013-09-22        159\n",
       "765  2005-09-11        142\n",
       "1149 2013-01-20        138\n",
       "331  1997-05-18        113\n",
       "330  1997-05-11        111\n",
       "749  2005-05-22        104\n",
       "766  2005-09-18        103\n",
       "393  1998-07-26         90\n",
       "645  2003-05-25         85\n",
       "807  2006-07-02         84\n",
       "428  1999-03-28         80\n",
       "1070 2011-07-17         77\n",
       "70   1992-05-17         77"
      ]
     },
     "execution_count": 219,
     "metadata": {},
     "output_type": "execute_result"
    }
   ],
   "source": [
    "guns.groupby(pd.Grouper(freq='W')).speech_id.count().reset_index().sort_values(by='speech_id',ascending=False).head(15)"
   ]
  },
  {
   "cell_type": "code",
   "execution_count": 249,
   "id": "6a4fa40e",
   "metadata": {},
   "outputs": [
    {
     "data": {
      "text/plain": [
       "array(['No. that is the World Heritage preserves. All treaties. all treaties have to have implementing language and also appropriations that come from authorizing. that is. if we would look at the Camp David accords. we do not just automatically let the State Department spend what they want to spend on it.'],\n",
       "      dtype=object)"
      ]
     },
     "execution_count": 249,
     "metadata": {},
     "output_type": "execute_result"
    }
   ],
   "source": [
    "sub.loc[(sub.date.dt.month.isin([7])) &\n",
    "        (sub.date.dt.year == 1997) &\n",
    "        (sub.date.dt.day > 10),'speech_text'].sample().values"
   ]
  }
 ],
 "metadata": {
  "kernelspec": {
   "display_name": "conda_python3",
   "language": "python",
   "name": "conda_python3"
  },
  "language_info": {
   "codemirror_mode": {
    "name": "ipython",
    "version": 3
   },
   "file_extension": ".py",
   "mimetype": "text/x-python",
   "name": "python",
   "nbconvert_exporter": "python",
   "pygments_lexer": "ipython3",
   "version": "3.6.13"
  }
 },
 "nbformat": 4,
 "nbformat_minor": 5
}
